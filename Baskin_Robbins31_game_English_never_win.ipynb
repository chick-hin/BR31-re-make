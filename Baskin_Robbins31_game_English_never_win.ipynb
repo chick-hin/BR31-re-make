{
 "cells": [
  {
   "cell_type": "code",
   "execution_count": 1,
   "metadata": {},
   "outputs": [],
   "source": [
    "\n",
    "def turn(): \n",
    "    global cur_n \n",
    "    if cur_n >=31 :\n",
    "        print('you died')\n",
    "    else :     \n",
    "        number_p = input('Input integer between 1 and 3')\n",
    "        nbp = int(number_p)\n",
    "\n",
    "        if (1<=nbp<=3):\n",
    "            cur_n = cur_n+ nbp  \n",
    "            print(cur_n)\n",
    "\n",
    "            if cur_n<31:\n",
    "                print('Bot enters')\n",
    "                nbc = 4-nbp\n",
    "                cur_n = cur_n+ nbc  \n",
    "                print(cur_n)\n",
    "                turn()\n",
    "            else : turn()\n",
    "\n",
    "        else:\n",
    "            print ('error!, Please enter again')\n",
    "            turn()"
   ]
  },
  {
   "cell_type": "code",
   "execution_count": null,
   "metadata": {},
   "outputs": [],
   "source": [
    "print(\"Baskin Robbins 31 Bot You Can't Win\" )\n",
    "print('start game')\n",
    "print('Bot enters')\n",
    "cur_n = 2 \n",
    "print(cur_n)\n",
    "turn()\n"
   ]
  },
  {
   "cell_type": "code",
   "execution_count": null,
   "metadata": {},
   "outputs": [],
   "source": []
  }
 ],
 "metadata": {
  "kernelspec": {
   "display_name": "Python 3",
   "language": "python",
   "name": "python3"
  },
  "language_info": {
   "codemirror_mode": {
    "name": "ipython",
    "version": 3
   },
   "file_extension": ".py",
   "mimetype": "text/x-python",
   "name": "python",
   "nbconvert_exporter": "python",
   "pygments_lexer": "ipython3",
   "version": "3.7.4"
  }
 },
 "nbformat": 4,
 "nbformat_minor": 4
}
