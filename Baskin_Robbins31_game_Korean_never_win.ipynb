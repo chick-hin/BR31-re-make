{
 "cells": [
  {
   "cell_type": "code",
   "execution_count": 6,
   "metadata": {},
   "outputs": [],
   "source": [
    "\n",
    "def turn(): \n",
    "    global cur_n \n",
    "    if cur_n >=31 :\n",
    "        print('you died')\n",
    "        \n",
    "    else: \n",
    "        number_p = input('1~3사이 정수 입력')\n",
    "        nbp = int(number_p)\n",
    "\n",
    "        if (1<=nbp<=3):\n",
    "            cur_n = cur_n+ nbp  \n",
    "            print(cur_n)\n",
    "            if cur_n<31:\n",
    "                print('기계가 입력합니다')\n",
    "                nbc = 4-nbp\n",
    "                cur_n = cur_n+ nbc  \n",
    "                print(cur_n)\n",
    "                turn()\n",
    "            else : turn()\n",
    "\n",
    "        else:\n",
    "            print ('error 다시 입력하세요')\n",
    "            turn()"
   ]
  },
  {
   "cell_type": "code",
   "execution_count": null,
   "metadata": {},
   "outputs": [],
   "source": [
    "print('절대 못이기는 베스킨라빈스31 봇 ' )\n",
    "print('start game')\n",
    "print('기계가 입력합니다')\n",
    "cur_n = 2 \n",
    "print(cur_n)\n",
    "turn()\n"
   ]
  },
  {
   "cell_type": "code",
   "execution_count": null,
   "metadata": {},
   "outputs": [],
   "source": []
  }
 ],
 "metadata": {
  "kernelspec": {
   "display_name": "Python 3",
   "language": "python",
   "name": "python3"
  },
  "language_info": {
   "codemirror_mode": {
    "name": "ipython",
    "version": 3
   },
   "file_extension": ".py",
   "mimetype": "text/x-python",
   "name": "python",
   "nbconvert_exporter": "python",
   "pygments_lexer": "ipython3",
   "version": "3.7.4"
  }
 },
 "nbformat": 4,
 "nbformat_minor": 4
}
